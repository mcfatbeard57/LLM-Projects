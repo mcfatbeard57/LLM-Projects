{
 "cells": [
  {
   "cell_type": "code",
   "execution_count": null,
   "metadata": {},
   "outputs": [],
   "source": [
    "pip install plotly panel"
   ]
  },
  {
   "cell_type": "code",
   "execution_count": null,
   "metadata": {},
   "outputs": [],
   "source": [
    "import pandas as pd\n",
    "import numpy as np\n",
    "import plotly.express as px\n",
    "import panel as pn"
   ]
  },
  {
   "cell_type": "code",
   "execution_count": null,
   "metadata": {},
   "outputs": [],
   "source": [
    "# Read transactions_2022_2023_categorized.csv\n",
    "df = pd.read_csv('combined_transactions_categories.csv')\n",
    "# Add year and month columns\n",
    "df['Year'] = pd.to_datetime(df['Date']).dt.year\n",
    "df['Month'] = pd.to_datetime(df['Date']).dt.month\n",
    "df['Month Name'] = pd.to_datetime(df['Date']).dt.strftime(\"%b\")\n",
    "# Remove \"Transaction\" and \"Transaction vs category\" columns\n",
    "df = df.drop(columns=['Transaction', 'Transaction vs category'])\n",
    "df"
   ]
  },
  {
   "cell_type": "code",
   "execution_count": null,
   "metadata": {},
   "outputs": [],
   "source": [
    "import pandas as pd\n",
    "import plotly.express as px\n",
    "\n",
    "def make_pie_chart(df, year, label):\n",
    "    # Filter the dataset for the specified expense/income and year\n",
    "    sub_df = df[(df['Expense/Income'] == 'Expense') & (df['Year'] == year)]\n",
    "\n",
    "    # Remove NaN values from the 'Category' column\n",
    "    sub_df = sub_df.dropna(subset=['Category'])\n",
    "\n",
    "    # Check if the filtered dataframe is empty after removing NaN values\n",
    "    if sub_df.empty:\n",
    "        raise ValueError(f\"No data available for {label} in year {year}\")\n",
    "\n",
    "    color_scale = px.colors.qualitative.Set2\n",
    "    \n",
    "    pie_fig = px.pie(sub_df, values='Amount', names='Category', color_discrete_sequence=color_scale)\n",
    "    pie_fig.update_traces(textposition='inside', direction='clockwise', hole=0.3, textinfo=\"label+percent\")\n",
    "\n",
    "    # Ensure Amount (EUR) is numeric\n",
    "    sub_df['Amount'] = pd.to_numeric(sub_df['Amount'], errors='coerce')\n",
    "    total_expense = sub_df['Amount'].sum()\n",
    "\n",
    "    if pd.isna(total_expense):\n",
    "        raise ValueError(\"Total expense calculation returned NaN\")\n",
    "\n",
    "    total_text = \"€ \" + str(round(total_expense))\n",
    "\n",
    "    pie_fig.update_layout(\n",
    "        uniformtext_minsize=10,\n",
    "        uniformtext_mode='hide',\n",
    "        title=dict(text=label + \" Breakdown \" + str(year)),\n",
    "        annotations=[\n",
    "            dict(\n",
    "                text=total_text,\n",
    "                x=0.5, y=0.5, font_size=12,\n",
    "                showarrow=False\n",
    "            )\n",
    "        ]\n",
    "    )\n",
    "\n",
    "    return pie_fig\n",
    "\n",
    "# Example usage\n",
    "try:\n",
    "    expense_pie_fig_2024 = make_pie_chart(df, 2024, 'Expense')\n",
    "    expense_pie_fig_2024.show()  # Use .show() to display the figure\n",
    "except Exception as e:\n",
    "    print(f\"Error: {e}\")\n"
   ]
  },
  {
   "cell_type": "code",
   "execution_count": null,
   "metadata": {},
   "outputs": [],
   "source": [
    "def make_monthly_bar_chart(df, year, label):\n",
    "    df = df[(df['Expense/Income'] == label) & (df['Year'] == year)]\n",
    "    total_by_month = (df.groupby(['Month', 'Month Name'])['Amount'].sum()\n",
    "                        .to_frame()\n",
    "                        .reset_index()\n",
    "                        .sort_values(by='Month')  \n",
    "                        .reset_index(drop=True))\n",
    "    if label == \"Income\":\n",
    "        color_scale = px.colors.sequential.YlGn\n",
    "    if label == \"Expense\":\n",
    "        color_scale = px.colors.sequential.OrRd\n",
    "    \n",
    "    bar_fig = px.bar(total_by_month, x='Month Name', y='Amount', text_auto='.2s', title=label+\" per month\", color='Amount', color_continuous_scale=color_scale)\n",
    "    # bar_fig.update_traces(marker_color='lightslategrey')\n",
    "    \n",
    "    return bar_fig"
   ]
  },
  {
   "cell_type": "code",
   "execution_count": null,
   "metadata": {},
   "outputs": [],
   "source": [
    "expense_monthly_2024 = make_monthly_bar_chart(df, 2024, 'Expense')\n",
    "expense_monthly_2024"
   ]
  },
  {
   "cell_type": "code",
   "execution_count": null,
   "metadata": {},
   "outputs": [],
   "source": [
    "# Creating the charts\n",
    "expense_pie_fig_2024 = make_pie_chart(df, 2024, 'Expense')\n",
    "expense_monthly_2024 = make_monthly_bar_chart(df, 2024, 'Expense')\n",
    "\n",
    "# Create tabs\n",
    "tabs = pn.Tabs(\n",
    "    ('2024', pn.Column(pn.Row(expense_monthly_2024, expense_pie_fig_2024)))\n",
    ")\n",
    "\n",
    "# Display the tabs\n",
    "tabs.show()"
   ]
  }
 ],
 "metadata": {
  "kernelspec": {
   "display_name": "Python 3",
   "language": "python",
   "name": "python3"
  },
  "language_info": {
   "codemirror_mode": {
    "name": "ipython",
    "version": 3
   },
   "file_extension": ".py",
   "mimetype": "text/x-python",
   "name": "python",
   "nbconvert_exporter": "python",
   "pygments_lexer": "ipython3",
   "version": "3.9.13"
  }
 },
 "nbformat": 4,
 "nbformat_minor": 2
}
