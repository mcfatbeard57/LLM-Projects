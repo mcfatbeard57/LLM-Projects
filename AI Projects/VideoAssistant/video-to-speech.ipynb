{
 "cells": [
  {
   "cell_type": "markdown",
   "metadata": {},
   "source": [
    "# Multimodal demo\n",
    "\n",
    "This is an example of how to simulate a video- and audio-aware model using existing LLM vision models (that take text and images as input, and generate text as output)."
   ]
  },
  {
   "cell_type": "code",
   "execution_count": null,
   "metadata": {},
   "outputs": [],
   "source": [
    "import os\n",
    "from pathlib import Path\n",
    "\n",
    "import dotenv\n",
    "from openai import OpenAI\n",
    "\n",
    "from media_extractor import split_video\n",
    "import datauri"
   ]
  },
  {
   "cell_type": "code",
   "execution_count": null,
   "metadata": {},
   "outputs": [],
   "source": [
    "# Load OpenAI API key from .env file\n",
    "dotenv.load_dotenv()\n",
    "if os.environ.get(\"OPENAI_API_KEY\") is None:\n",
    "    raise ValueError(\"OPENAI_API_KEY not found in .env file\")\n",
    "\n",
    "client = OpenAI()"
   ]
  },
  {
   "cell_type": "markdown",
   "metadata": {},
   "source": [
    "This is the input video that we'll turn into the user prompt."
   ]
  },
  {
   "cell_type": "code",
   "execution_count": null,
   "metadata": {},
   "outputs": [],
   "source": [
    "video_file = \"input.mov\"\n",
    "\n",
    "from IPython.display import Video\n",
    "Video(video_file, width=320)"
   ]
  },
  {
   "cell_type": "markdown",
   "metadata": {},
   "source": [
    "At the time of this writing, the GPT-4o API doesn't directly support video or audio input. Instead, we'll decode the video into frames and feed them to the model as images, and decode the audio into text and feed it to the model as text."
   ]
  },
  {
   "cell_type": "code",
   "execution_count": null,
   "metadata": {},
   "outputs": [],
   "source": [
    "audio_uri, image_uris = split_video(video_file)\n",
    "audio_uri[:50]"
   ]
  },
  {
   "cell_type": "markdown",
   "metadata": {},
   "source": [
    "Decode the audio file into text, using OpenAI's `whisper-1` model. The result will serve as the text prompt for the LLM."
   ]
  },
  {
   "cell_type": "code",
   "execution_count": null,
   "metadata": {},
   "outputs": [],
   "source": [
    "with datauri.as_tempfile(audio_uri) as audio_file:\n",
    "    transcription = client.audio.transcriptions.create(\n",
    "        model=\"whisper-1\", file=Path(audio_file)\n",
    "    )\n",
    "\n",
    "user_prompt = transcription.text\n",
    "user_prompt"
   ]
  },
  {
   "cell_type": "markdown",
   "metadata": {},
   "source": [
    "We're ready to talk to the LLM: use the text and images as input, and get generated text back."
   ]
  },
  {
   "cell_type": "code",
   "execution_count": null,
   "metadata": {},
   "outputs": [],
   "source": [
    "response = client.chat.completions.create(\n",
    "    model=\"gpt-4o\",\n",
    "    messages=[\n",
    "        {\n",
    "            \"role\": \"user\",\n",
    "            \"content\": [\n",
    "                {\"type\": \"text\", \"text\": user_prompt},\n",
    "                *[\n",
    "                    {\n",
    "                        \"type\": \"image_url\",\n",
    "                        \"image_url\": {\"url\": image_uri, \"detail\": \"auto\"},\n",
    "                    }\n",
    "                    for image_uri in image_uris\n",
    "                ],\n",
    "            ],\n",
    "        },\n",
    "        {\n",
    "            \"role\": \"system\",\n",
    "            \"content\": Path(\"system_prompt.txt\").read_text(),\n",
    "        },\n",
    "    ],\n",
    ")\n",
    "response_text = response.choices[0].message.content\n",
    "response_text"
   ]
  },
  {
   "cell_type": "markdown",
   "metadata": {},
   "source": [
    "Use OpenAI's text-to-speech model to turn the generated text into audio."
   ]
  },
  {
   "cell_type": "code",
   "execution_count": null,
   "metadata": {},
   "outputs": [],
   "source": [
    "audio = client.audio.speech.create(\n",
    "    model=\"tts-1\",\n",
    "    voice=\"nova\",\n",
    "    input=response_text,\n",
    "    response_format=\"mp3\",\n",
    ")\n",
    "response_audio_uri = datauri.from_bytes(audio.read(), \"audio/mpeg\")"
   ]
  },
  {
   "cell_type": "code",
   "execution_count": null,
   "metadata": {},
   "outputs": [],
   "source": [
    "with datauri.as_tempfile(response_audio_uri) as response_audio_file:\n",
    "    from IPython.display import Audio\n",
    "    display(Audio(response_audio_file))"
   ]
  }
 ],
 "metadata": {
  "kernelspec": {
   "display_name": "Python 3 (ipykernel)",
   "language": "python",
   "name": "python3"
  },
  "language_info": {
   "codemirror_mode": {
    "name": "ipython",
    "version": 3
   },
   "file_extension": ".py",
   "mimetype": "text/x-python",
   "name": "python",
   "nbconvert_exporter": "python",
   "pygments_lexer": "ipython3",
   "version": "3.10.6"
  }
 },
 "nbformat": 4,
 "nbformat_minor": 4
}
