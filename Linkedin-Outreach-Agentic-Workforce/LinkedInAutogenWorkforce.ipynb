{
 "cells": [
  {
   "cell_type": "code",
   "execution_count": null,
   "metadata": {},
   "outputs": [],
   "source": [
    "\"\"\"\n",
    "video: https://www.youtube.com/watch?v=vDX5kwcKmfA\n",
    "1. RESEARCH AGENT LOGS INTO LINKEDIN\n",
    "2. NAVIGATES TO THE PROSPECT'S PROFILE\n",
    "3. ANALYZES AND SUMMARIZES THE ACTIVITIES\n",
    "4. WRITER AGENT CRAFTS A TAILORED MESSAGE\n",
    "\"\"\""
   ]
  },
  {
   "cell_type": "code",
   "execution_count": null,
   "metadata": {},
   "outputs": [],
   "source": [
    "# tools.py\n",
    "\n",
    "from selenium import webdriver\n",
    "from selenium.webdriver.common.keys import Keys\n",
    "from selenium.webdriver.common.by import By\n",
    "from typing_extensions import Annotated\n",
    "from openai import OpenAI\n",
    "import os\n",
    "import time\n",
    "import base64\n",
    "\n",
    "def analyze_profile(profile_name: Annotated[str, \"The name of the profile to screenshot\"\"\"]):\n",
    "    filename = create_screenshot(profile_name)\n",
    "    analysis = analyze_screenshot(filename)\n",
    "    return analysis\n",
    "\n",
    "def create_screenshot(profile_name):\n",
    "    driver = webdriver.Chrome()\n",
    "    username = os.environ.get (\"LINKEDIN_EMAIL\")\n",
    "    password = os.environ.get (\"LINKEDIN_PASSWORD\")\n",
    "    if not (username and password):\n",
    "        raise Exception ( 'Username or password not given')\n",
    "    \n",
    "    driver. get (\"https://www.linkedin.com/login\")\n",
    "    username_input = driver.find_element(\"id\", \"username\")\n",
    "    password_input = driver.find_element(\"id\", \"password\")\n",
    "    username_input.send_keys(username)\n",
    "    password_input.send_keys(password)\n",
    "    password_input.send_keys(Keys.RETURN) \n",
    "    driver.get(f\"https://www.linkedin.com/in/{profile_name}/recent-activity/all/\")\n",
    "    time. sleep (3)\n",
    "\n",
    "    screenshot_path = f\"{profile_name}_linkedin.png\"\n",
    "    driver.save_screenshot(screenshot_path)\n",
    "  \n",
    "def analyse_sreenshot():\n",
    "    client = OpenAI()\n",
    "    base64_image = encode_image(image_path)\n",
    "    response = client.chat.completions.create(\n",
    "        model=\"gpt-40\",\n",
    "        messages=[\n",
    "            \n",
    "            {\n",
    "                \" role\": \"user\",\n",
    "                \"content\":[\n",
    "                    {\n",
    "                        \"type\": \"text\",\n",
    "                        \"text\": \"Describe the interests of this user as detailed as\"\n",
    "                    },\n",
    "                    {\n",
    "                        \"type\": \"image_url\",\n",
    "                        \"image_url\": {\n",
    "                            \"url\": f\"data: image/jpeg; base64,{base64_image}\"\n",
    "                            }\n",
    "                    },\n",
    "                ],\n",
    "            }\n",
    "        ],\n",
    "        max_tokens=300,\n",
    "    )\n",
    "    return response.choices[0].message.content\n",
    "\n"
   ]
  },
  {
   "cell_type": "code",
   "execution_count": null,
   "metadata": {},
   "outputs": [],
   "source": [
    "from autogen import AssistantAgent, UserProxyAgent, GroupChat, GroupChatManager, register_function\n",
    "import os"
   ]
  },
  {
   "cell_type": "code",
   "execution_count": null,
   "metadata": {},
   "outputs": [],
   "source": [
    "llm_config = {\"model\": \"gpt-40\", \"api_key\": os.environ [\"'OPENAI_API_KEY\"]}\n",
    "user_proxy = UserProxyAgent(\"user_proxy\", code_execution_config=False)"
   ]
  },
  {
   "cell_type": "code",
   "execution_count": null,
   "metadata": {},
   "outputs": [],
   "source": [
    "linkedin_analyzer = AssistantAgent(\n",
    "    name=\"linkedin_analyzer\", \n",
    "    system_message=\"\"\"\n",
    "    A LinkedIn analyzer who accurately describes profiles.\n",
    "    He calls the given tools to provide a description of a LinkedIn profile.\n",
    "    \"\"\",\n",
    "    llm_config=llm_config\n",
    ")"
   ]
  },
  {
   "cell_type": "code",
   "execution_count": null,
   "metadata": {},
   "outputs": [],
   "source": [
    "register_function(\n",
    "    analyze_profile, \n",
    "    caller=linkedin_analyzer, \n",
    "    executor=user_proxy, \n",
    "    name=\"analyze_profiles\",\n",
    "    description=\"Returns a detailed summary of the requested LinkedIn profile.\",\n",
    ")"
   ]
  },
  {
   "cell_type": "code",
   "execution_count": null,
   "metadata": {},
   "outputs": [],
   "source": [
    "writer = AssistantAgent(\n",
    "    name=\"message_writer\", \n",
    "    system_message=\"\"\"\n",
    "    A LinkedIn message writer named Sebastian for ai-for-devs.com.\n",
    "    Its role is to write short, highly individual LinkedIn messages in the style of very experienced copywriter \\\n",
    "        to introduce AI consulting services based on the insights provided by the LinkedIn Analyzer.\n",
    "    \"\"\",\n",
    "llm_config=llm_config\n",
    ")"
   ]
  },
  {
   "cell_type": "code",
   "execution_count": null,
   "metadata": {},
   "outputs": [],
   "source": [
    "groupchat = GroupChat(\n",
    "    agents=[user_proxy, \n",
    "    linkedin_analyzer, \n",
    "    writer], \n",
    "messages=[]\n",
    ")"
   ]
  },
  {
   "cell_type": "code",
   "execution_count": null,
   "metadata": {},
   "outputs": [],
   "source": [
    "user_proxy.initiate_chat(\n",
    "    manager, message=f\"\"\"\n",
    "    Follow these steps:\n",
    "    1. The analyzer asks the user for a given LinkedIn profile.\n",
    "    2. Describe the profile in a few sentences.\n",
    "    3. Write an individual LinkedIn message.\n",
    "    4. Ask for the next LinkedIn profile.\n",
    "    \"\"\"\n",
    ")"
   ]
  },
  {
   "cell_type": "code",
   "execution_count": null,
   "metadata": {},
   "outputs": [],
   "source": []
  }
 ],
 "metadata": {
  "language_info": {
   "name": "python"
  }
 },
 "nbformat": 4,
 "nbformat_minor": 2
}
